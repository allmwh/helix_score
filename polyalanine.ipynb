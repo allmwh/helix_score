{
 "cells": [
  {
   "cell_type": "code",
   "execution_count": null,
   "id": "a20c61aa",
   "metadata": {},
   "outputs": [],
   "source": [
    "import os\n",
    "import sys\n",
    "import shutil\n",
    "import requests\n",
    "import subprocess\n",
    "import numpy as np\n",
    "import pandas as pd\n",
    "from pathlib import Path \n",
    "from tqdm.notebook import tqdm\n",
    "    \n",
    "from function.seqfilter import SeqFilter\n",
    "from function.utilities import seq_to_fasta\n",
    "from function.utilities import get_uniprot_rawdata"
   ]
  },
  {
   "cell_type": "code",
   "execution_count": null,
   "id": "230d9020",
   "metadata": {},
   "outputs": [],
   "source": [
    "#load human sequence and order/disroder information\n",
    "human_df = get_uniprot_rawdata(\"./rawdata/human_uniprot.tab\")\n",
    "od_human_df = pd.read_pickle(\"./rawdata/VSL2_od_human_df.pkl\")\n",
    "def get_sequence(uniprot_id,return_sequence):\n",
    "    if return_sequence == 'od_ident':\n",
    "        return od_human_df[od_human_df['uniprot_id'] == uniprot_id]['od_ident'].tolist()[0]\n",
    "    elif return_sequence == 'sequence':\n",
    "        return human_df[human_df['uniprot_id'] == uniprot_id]['protein_sequence'].tolist()[0]"
   ]
  },
  {
   "cell_type": "code",
   "execution_count": null,
   "id": "1fdc74c9",
   "metadata": {},
   "outputs": [],
   "source": [
    "class Polya():\n",
    "    def __init__(self,propensity_dict):\n",
    "        self.propensity_dict = propensity_dict  \n",
    "        \n",
    "    def get_seq_prop(self,sequence,od_ident, prop_score_threshold, prop_score_filter_length):\n",
    "        od_index = seqfilter.get_od_index(od_ident)\n",
    "        od_index = od_index['disorder_region']\n",
    "        \n",
    "        self.prop_score_threshold = prop_score_threshold\n",
    "        self.prop_score_filter_length = prop_score_filter_length\n",
    "            \n",
    "        #算所有的feature    \n",
    "        all_seq_features = 0\n",
    "        for index in od_index:\n",
    "            start = index['start']\n",
    "            end = index['end']\n",
    "\n",
    "            frag_seq_prop_list = self.__get_frag_seq_prop_list(sequence[start:end])\n",
    "            frag_features = self.__get_feature_num_frag_seq_prop_list(frag_seq_prop_list)\n",
    "\n",
    "            all_seq_features = all_seq_features + frag_features\n",
    "        return all_seq_features\n",
    "        \n",
    "    \n",
    "    def __get_frag_seq_prop_list(self,frag_sequence):\n",
    "        value = 1\n",
    "        value_list = []\n",
    "        for i in frag_sequence:\n",
    "            if self.propensity_dict[i] == 0 :\n",
    "                value_list.append(round(-0.1 ,3))\n",
    "                value = 1\n",
    "            else:\n",
    "                value = value * self.propensity_dict[i]\n",
    "                value_list.append(round(value,3))\n",
    "        return value_list\n",
    "    \n",
    "    \n",
    "    def __get_feature_num_frag_seq_prop_list(self,frag_seq_prop_list):\n",
    "        score_str = ''\n",
    "        for i in frag_seq_prop_list:\n",
    "            if i >= self.prop_score_threshold:\n",
    "                score_str = score_str + 'p'\n",
    "            else:\n",
    "                score_str = score_str + ' '\n",
    "        possible_propensity = list(filter(None, score_str.split(\" \")))\n",
    "        length_filtered_num = len(list(filter(lambda item: len(item)>self.prop_score_filter_length, possible_propensity)))\n",
    "        return length_filtered_num"
   ]
  },
  {
   "cell_type": "markdown",
   "id": "ab9fc094",
   "metadata": {},
   "source": [
    "# Param"
   ]
  },
  {
   "cell_type": "code",
   "execution_count": null,
   "id": "76a39d0a",
   "metadata": {},
   "outputs": [],
   "source": [
    "propensity_dict = {'A':1.2,'L':1,'M':1,'Q':0.8,\n",
    "                   'D':0,'E':0,'F':0,'G':0,'H':0,'I':0,'K':0,'C':0,'Y':0,'N':0,'P':0,'T':0,'R':0,'S':0,'V':0,'W':0,}"
   ]
  },
  {
   "cell_type": "code",
   "execution_count": null,
   "id": "4ef3f3bf",
   "metadata": {},
   "outputs": [],
   "source": [
    "#####CHANGE HERE#####\n",
    "\n",
    "#polyalanine param\n",
    "prop_score_filter_length = 1 #no length filter\n",
    "polya_thresholds = [1.5,2.0,2.5]\n",
    "\n",
    "#order/disorder length filter param\n",
    "order_filter_length = 10\n",
    "disorder_filter_length = 40\n",
    "\n",
    "#####CHANGE HERE#####"
   ]
  },
  {
   "cell_type": "markdown",
   "id": "f510d14b",
   "metadata": {},
   "source": [
    "# Run polyalanine for all proteins"
   ]
  },
  {
   "cell_type": "code",
   "execution_count": null,
   "id": "d8d5639f",
   "metadata": {},
   "outputs": [],
   "source": [
    "seqfilter = SeqFilter()\n",
    "polya = Polya(propensity_dict=propensity_dict)\n",
    "\n",
    "polya_df = pd.DataFrame(human_df['uniprot_id'])\n",
    "\n",
    "for index, row in tqdm(polya_df.iterrows(), total=polya_df.shape[0]):\n",
    "    \n",
    "    uniprot_id = row['uniprot_id']\n",
    "    \n",
    "    #get sequence\n",
    "    sequence = get_sequence(uniprot_id,\"sequence\")\n",
    "\n",
    "    #get disorder info\n",
    "    #exception for no pondr disorder/order seq\n",
    "    try:\n",
    "        od_ident = get_sequence(uniprot_id,\"od_ident\")\n",
    "    except Exception as e: \n",
    "        print(\"{}, no pondr order/disorder info\".format(uniprot_id))\n",
    "        continue\n",
    "        \n",
    "    od_ident = seqfilter.length_filter_by_od_ident(od_ident,disorder_filter_length,order_filter_length) \n",
    "    \n",
    "    for threshold in polya_thresholds:\n",
    "        prop= polya.get_seq_prop(sequence=sequence,\n",
    "                                 od_ident=od_ident,\n",
    "                                 prop_score_threshold=threshold,\n",
    "                                 prop_score_filter_length=prop_score_filter_length)\n",
    "        \n",
    "        column_names='cond_{}'.format(threshold)\n",
    "        polya_df.loc[polya_df['uniprot_id'] == uniprot_id, column_names] = prop"
   ]
  },
  {
   "cell_type": "code",
   "execution_count": null,
   "id": "add218e6",
   "metadata": {},
   "outputs": [],
   "source": [
    "#save output to ./output\n",
    "# polya_df.to_pickle(\"./output/polya.pkl\")"
   ]
  }
 ],
 "metadata": {
  "kernelspec": {
   "display_name": "Python 3 (ipykernel)",
   "language": "python",
   "name": "python3"
  },
  "language_info": {
   "codemirror_mode": {
    "name": "ipython",
    "version": 3
   },
   "file_extension": ".py",
   "mimetype": "text/x-python",
   "name": "python",
   "nbconvert_exporter": "python",
   "pygments_lexer": "ipython3",
   "version": "3.9.6"
  },
  "varInspector": {
   "cols": {
    "lenName": 16,
    "lenType": 16,
    "lenVar": 40
   },
   "kernels_config": {
    "python": {
     "delete_cmd_postfix": "",
     "delete_cmd_prefix": "del ",
     "library": "var_list.py",
     "varRefreshCmd": "print(var_dic_list())"
    },
    "r": {
     "delete_cmd_postfix": ") ",
     "delete_cmd_prefix": "rm(",
     "library": "var_list.r",
     "varRefreshCmd": "cat(var_dic_list()) "
    }
   },
   "types_to_exclude": [
    "module",
    "function",
    "builtin_function_or_method",
    "instance",
    "_Feature"
   ],
   "window_display": false
  }
 },
 "nbformat": 4,
 "nbformat_minor": 5
}
