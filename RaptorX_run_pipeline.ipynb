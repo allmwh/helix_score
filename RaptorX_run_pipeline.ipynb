{
 "cells": [
  {
   "cell_type": "code",
   "execution_count": null,
   "id": "2e52ebb0",
   "metadata": {},
   "outputs": [],
   "source": [
    "import os\n",
    "import sys\n",
    "import shutil\n",
    "import requests\n",
    "import subprocess\n",
    "import numpy as np\n",
    "import pandas as pd\n",
    "from pathlib import Path \n",
    "from tqdm.notebook import tqdm\n",
    "    \n",
    "from function.seqfilter import SeqFilter\n",
    "from function.utilities import seq_to_fasta\n",
    "from function.utilities import get_uniprot_rawdata"
   ]
  },
  {
   "cell_type": "code",
   "execution_count": null,
   "id": "d5cf35a1",
   "metadata": {},
   "outputs": [],
   "source": [
    "#RaptorX pipeline\n",
    "class HelixPropByRaptorX():\n",
    "    \"\"\"\n",
    "    get RaptorX score,\n",
    "    please download RaptorX from https://github.com/realbigws/Predict_Property,\n",
    "    and compile Predict_Property as their instructions\n",
    "    \"\"\"\n",
    "    def __init__(self, raptorx_path, output_path,sequence_profile=False):\n",
    "        self.raptorx_path = Path(raptorx_path)\n",
    "        self.output_path = Path(output_path)\n",
    "        self.sequence_profile = sequence_profile\n",
    "    \n",
    "    def pipeline_get_seq_prop(self, fasta_path, od_index, helix_threshold, prop_score_filter_length):\n",
    "        \n",
    "        #run raptorx\n",
    "        self.run_raptorx(fasta_path)\n",
    "        \n",
    "        #get helix score from raptorx output\n",
    "        helix_score = self.parse_helix_score()\n",
    "        \n",
    "        #get helix count by threshold\n",
    "        #add list func \n",
    "        if type(helix_threshold) is list:\n",
    "            helix_counts_list = []\n",
    "            for i in helix_threshold:\n",
    "                helix_counts = self.get_helix_counts_perseq(od_index,helix_score,i, prop_score_filter_length)\n",
    "                helix_counts_list.append(helix_counts)\n",
    "            return helix_counts_list\n",
    "        else:\n",
    "            helix_counts = self.get_helix_counts_perseq(od_index,helix_score,helix_threshold, prop_score_filter_length)\n",
    "            return helix_counts\n",
    "    \n",
    "    def run_raptorx(self, fasta_path):\n",
    "        #run sequence profile\n",
    "        if self.sequence_profile:\n",
    "            pass\n",
    "            #TODO\n",
    "            \n",
    "        #run raptorx\n",
    "        raptorx_pp_runfile =  self.raptorx_path/ \"Predict_Property.sh\"\n",
    "        self.output_path.mkdir(parents=True, exist_ok=True)\n",
    "        self.output_path = self.output_path.absolute()\n",
    "        \n",
    "        cmd = \"{} -i {} -o {}\".format(str(raptorx_pp_runfile),str(fasta_path), str(self.output_path))\n",
    "        try:\n",
    "            ps = subprocess.check_call(cmd,\n",
    "                                       shell=True,\n",
    "                                       stdout=subprocess.PIPE,\n",
    "                                       stderr=subprocess.STDOUT)\n",
    "        except subprocess.CalledProcessError as e:\n",
    "            ret_code = e.returncode\n",
    "            print('An error occurred.  Error code:', e)\n",
    "    \n",
    "    def parse_helix_score(self):\n",
    "        '''\n",
    "        parse raptorx's output\n",
    "        '''  \n",
    "        parse_file_path = self.output_path/\"tmp.ss3\"\n",
    "        df = pd.read_csv(parse_file_path,skiprows=[0,1],delim_whitespace=True,\n",
    "                     names=['index','aa','indi','helix','beta','coil'])\n",
    "        #clean old file\n",
    "        shutil.rmtree(self.output_path)\n",
    "\n",
    "        return df['helix'].tolist()\n",
    "\n",
    "    def get_helix_counts_perseq(self, od_index, helix_score, helix_threshold, prop_score_filter_length):\n",
    "        \n",
    "        helix_counts = 0\n",
    "        \n",
    "        for i in od_index:\n",
    "            start = i['start']\n",
    "            end = i['end']\n",
    "\n",
    "            frag_helix_score = helix_score[start:end]\n",
    "\n",
    "            score_str = ''\n",
    "            for i in frag_helix_score:\n",
    "                if i > helix_threshold:\n",
    "                    score_str = score_str + 'p'\n",
    "                else:\n",
    "                    score_str = score_str + ' '\n",
    "            possible_propensity = list(filter(None, score_str.split(\" \")))\n",
    "            frag_helix_counts = len(list(filter(lambda item: len(item)>=prop_score_filter_length, possible_propensity)))\n",
    "            helix_counts = frag_helix_counts + helix_counts\n",
    "        \n",
    "        return helix_counts"
   ]
  },
  {
   "cell_type": "code",
   "execution_count": null,
   "id": "92aa6fbc",
   "metadata": {},
   "outputs": [],
   "source": [
    "#load human sequence and order/disroder information\n",
    "human_df = get_uniprot_rawdata(\"./rawdata/human_uniprot.tab\")\n",
    "od_human_df = pd.read_pickle(\"./rawdata/VSL2_od_human_df.pkl\")\n",
    "def get_sequence(uniprot_id,return_sequence):\n",
    "    if return_sequence == 'od_ident':\n",
    "        return od_human_df[od_human_df['uniprot_id'] == uniprot_id]['od_ident'].tolist()[0]\n",
    "    elif return_sequence == 'sequence':\n",
    "        return human_df[human_df['uniprot_id'] == uniprot_id]['protein_sequence'].tolist()[0]"
   ]
  },
  {
   "cell_type": "markdown",
   "id": "1a2eec09",
   "metadata": {},
   "source": [
    "# Param"
   ]
  },
  {
   "cell_type": "code",
   "execution_count": null,
   "id": "7dbe7940",
   "metadata": {},
   "outputs": [],
   "source": [
    "#####CHANGE HERE#####\n",
    "\n",
    "#RaptorX's output path for temporary saving output data, will be cleaned after each run\n",
    "tmp_path = Path('/home/wenlin/tmp') \n",
    "fasta_path = tmp_path / 'tmp.fasta'\n",
    "output_path = tmp_path / 'tmp_output'\n",
    "\n",
    "#RaptorX Predict_Property program path, \n",
    "raptorx_path = \"/home/wenlin/d/code/raptorx/Predict_Property\"\n",
    "\n",
    "#raptorx param\n",
    "prop_score_filter_length = 10\n",
    "helix_thresholds = [0.3,0.5,0.7,0.8,0.9]\n",
    "\n",
    "#order/disorder length filter param\n",
    "order_filter_length = 10\n",
    "disorder_filter_length = 40\n",
    "\n",
    "#####CHANGE HERE#####"
   ]
  },
  {
   "cell_type": "markdown",
   "id": "5fdb785c",
   "metadata": {},
   "source": [
    "# Run raptorx for all proteins"
   ]
  },
  {
   "cell_type": "code",
   "execution_count": null,
   "id": "36710476",
   "metadata": {},
   "outputs": [],
   "source": [
    "seqfilter = SeqFilter()\n",
    "hexliprop = HelixPropByRaptorX(raptorx_path,output_path)\n",
    "\n",
    "raptorx_df = pd.DataFrame(human_df['uniprot_id'])\n",
    "\n",
    "for index, row in tqdm(raptorx_df.iterrows(), total=raptorx_df.shape[0]):\n",
    "    \n",
    "    uniprot_id = row['uniprot_id']\n",
    "    \n",
    "    #get sequence\n",
    "    sequence = get_sequence(uniprot_id,\"sequence\")\n",
    "\n",
    "    #get disorder info\n",
    "    #exception for no pondr disorder/order seq\n",
    "    try:\n",
    "        od_ident = get_sequence(uniprot_id,\"od_ident\")\n",
    "    except Exception as e: \n",
    "        print(e)\n",
    "        continue\n",
    "        \n",
    "    od_ident = seqfilter.length_filter_by_od_ident(od_ident,disorder_filter_length,order_filter_length) \n",
    "    od_index = seqfilter.get_od_index(od_ident)['disorder_region']\n",
    "\n",
    "    #create fasta path\n",
    "    seq_to_fasta(uniprot_id,sequence,fasta_path)\n",
    "    \n",
    "    #get score\n",
    "    #exception for raptorx too long sequence \n",
    "    try:\n",
    "        helix_props = hexliprop.pipeline_get_seq_prop(fasta_path, od_index, helix_thresholds, prop_score_filter_length)\n",
    "        for threshold, prop in zip(helix_thresholds, helix_props):\n",
    "            column_names='cond_{}'.format(threshold)\n",
    "            raptorx_df.loc[raptorx_df['uniprot_id'] == uniprot_id, column_names] = prop\n",
    "    except Exception as e:\n",
    "        print(\"run raptorx failed: {}\".format(uniprot_id))"
   ]
  },
  {
   "cell_type": "code",
   "execution_count": null,
   "id": "2659859c",
   "metadata": {},
   "outputs": [],
   "source": [
    "#save output to ./output\n",
    "# df.to_pickle(\".output/helix_prop_raptorx_longerthan_{}.pkl\".format(prop_score_filter_length))"
   ]
  }
 ],
 "metadata": {
  "kernelspec": {
   "display_name": "Python 3 (ipykernel)",
   "language": "python",
   "name": "python3"
  },
  "language_info": {
   "codemirror_mode": {
    "name": "ipython",
    "version": 3
   },
   "file_extension": ".py",
   "mimetype": "text/x-python",
   "name": "python",
   "nbconvert_exporter": "python",
   "pygments_lexer": "ipython3",
   "version": "3.9.6"
  },
  "varInspector": {
   "cols": {
    "lenName": 16,
    "lenType": 16,
    "lenVar": 40
   },
   "kernels_config": {
    "python": {
     "delete_cmd_postfix": "",
     "delete_cmd_prefix": "del ",
     "library": "var_list.py",
     "varRefreshCmd": "print(var_dic_list())"
    },
    "r": {
     "delete_cmd_postfix": ") ",
     "delete_cmd_prefix": "rm(",
     "library": "var_list.r",
     "varRefreshCmd": "cat(var_dic_list()) "
    }
   },
   "types_to_exclude": [
    "module",
    "function",
    "builtin_function_or_method",
    "instance",
    "_Feature"
   ],
   "window_display": false
  }
 },
 "nbformat": 4,
 "nbformat_minor": 5
}
