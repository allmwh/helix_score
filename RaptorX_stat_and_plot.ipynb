{
 "cells": [
  {
   "cell_type": "code",
   "execution_count": null,
   "id": "0e11254c",
   "metadata": {},
   "outputs": [],
   "source": [
    "import os\n",
    "import sys\n",
    "import numpy as np\n",
    "import pandas as pd\n",
    "from pathlib import Path \n",
    "from tqdm.notebook import tqdm\n",
    "import matplotlib.pyplot as plt \n",
    "\n",
    "from function.utilities import get_subset"
   ]
  },
  {
   "cell_type": "code",
   "execution_count": null,
   "id": "11dccf0d",
   "metadata": {},
   "outputs": [],
   "source": [
    "def get_have_propensity(df,subset,exp_cond):\n",
    "    subset_df = df[df['uniprot_id'].isin(subset)]\n",
    "    value = len(subset_df[subset_df[exp_cond] != 0]) / len(subset_df)\n",
    "    return {\"propensity_func\":\"have_propensity\",\"value\":round(value,3)}\n",
    "\n",
    "def get_score_data(exp_cond):\n",
    "    data_list = []\n",
    "    for i in subset_dict.keys():\n",
    "        propensity_dict = get_have_propensity(df,subset_dict[i],exp_cond)\n",
    "        data_list.append({\"expcond\":exp_cond,\n",
    "                          \"value\":propensity_dict[\"value\"],\n",
    "                          \"subset\":i})\n",
    "    return data_list\n",
    "\n",
    "def get_score_data_humansample(exp_cond,sample_num):\n",
    "    values = []\n",
    "    for i in range(100):\n",
    "        propensity_dict = get_have_propensity(df.sample(sample_num),subset_dict[\"human\"],exp_cond)\n",
    "        values.append(propensity_dict[\"value\"])\n",
    "    \n",
    "    return {\"expcond\":exp_cond,\n",
    "            \"value\":values}"
   ]
  },
  {
   "cell_type": "code",
   "execution_count": null,
   "id": "86a5ff10",
   "metadata": {},
   "outputs": [],
   "source": [
    "#####CHANGE HERE#####\n",
    "#load score df \n",
    "    #helix_prop_raptorx_longerthan_10.pkl \n",
    "    #helix_prop_raptorx_longerthan_7.pkl \n",
    "    #helix_prop_raptorx_longerthan_5.pkl\n",
    "df = pd.read_pickle(\"./output/helix_prop_raptorx_longerthan_10.pkl\").dropna().reset_index(drop=True)\n",
    "\n",
    "#cond \n",
    "    #cond_0.3\n",
    "    #cond_0.5\n",
    "    #cond_0.7\n",
    "    #cond_0.8\n",
    "    #cond_0.9)\n",
    "cond = \"cond_0.5\" \n",
    "#####CHANGE HERE#####"
   ]
  },
  {
   "cell_type": "code",
   "execution_count": null,
   "id": "9888c0a3",
   "metadata": {},
   "outputs": [],
   "source": [
    "subset_dict = {\"human\":get_subset(df,\"human\")['uniprot_id'].tolist(),\n",
    "               \"rbp\":get_subset(df,\"rbp\")['uniprot_id'].tolist(),\n",
    "               \"mrbp\":get_subset(df,\"mrbp\")['uniprot_id'].tolist(),}"
   ]
  },
  {
   "cell_type": "code",
   "execution_count": null,
   "id": "e607f715",
   "metadata": {},
   "outputs": [],
   "source": [
    "#get stat results\n",
    "values = [i['value'] for i in get_score_data(cond)]\n",
    "\n",
    "print(\"helix(%) for human, rbp, mrbp at {}: {}\".format(cond, values))"
   ]
  },
  {
   "cell_type": "markdown",
   "id": "44fe4815",
   "metadata": {},
   "source": [
    "# plot all cond result"
   ]
  },
  {
   "cell_type": "code",
   "execution_count": null,
   "id": "6568326c",
   "metadata": {},
   "outputs": [],
   "source": [
    "def plot(subplot,cond):\n",
    "    values = [i['value'] for i in get_score_data(cond)]\n",
    "    tick_label = [key for key,_ in subset_dict.items()]\n",
    "\n",
    "    subplot.bar(tick_label,values,tick_label=tick_label,width=0.3,color=\"#CDF3A2\")\n",
    "    subplot.set_ylim(0.3,0.8)\n",
    "\n",
    "    #sample point rbp\n",
    "    rbp = get_score_data_humansample(cond,1542)\n",
    "    gaussian=np.random.normal(0, 0.01, (100))\n",
    "    for index_in,element in enumerate(rbp['value']):\n",
    "        subplot.scatter(1+gaussian[index_in],element,s=2,zorder=10,color='#A03C78')\n",
    "\n",
    "    #sample point mrna\n",
    "    rbp = get_score_data_humansample(cond,689)\n",
    "    gaussian=np.random.normal(0, 0.01, (100))\n",
    "    for index_in,element in enumerate(rbp['value']):\n",
    "        subplot.scatter(2+gaussian[index_in],element,s=2,zorder=10,color='#A03C78')\n",
    "\n",
    "\n",
    "    subplot.set_title(cond)"
   ]
  },
  {
   "cell_type": "code",
   "execution_count": null,
   "id": "4c93a5f7",
   "metadata": {},
   "outputs": [],
   "source": [
    "f, ((a0,a1,a2),(a3,a4,a5)) = plt.subplots(2, 3, figsize=(12,6),dpi=200)\n",
    "\n",
    "plot(a0,\"cond_0.3\")\n",
    "plot(a1,\"cond_0.5\")\n",
    "plot(a2,\"cond_0.7\")\n",
    "plot(a3,\"cond_0.8\")\n",
    "plot(a4,\"cond_0.9\")"
   ]
  },
  {
   "cell_type": "code",
   "execution_count": null,
   "id": "b2a46719",
   "metadata": {},
   "outputs": [],
   "source": []
  }
 ],
 "metadata": {
  "kernelspec": {
   "display_name": "Python 3 (ipykernel)",
   "language": "python",
   "name": "python3"
  },
  "language_info": {
   "codemirror_mode": {
    "name": "ipython",
    "version": 3
   },
   "file_extension": ".py",
   "mimetype": "text/x-python",
   "name": "python",
   "nbconvert_exporter": "python",
   "pygments_lexer": "ipython3",
   "version": "3.9.6"
  },
  "varInspector": {
   "cols": {
    "lenName": 16,
    "lenType": 16,
    "lenVar": 40
   },
   "kernels_config": {
    "python": {
     "delete_cmd_postfix": "",
     "delete_cmd_prefix": "del ",
     "library": "var_list.py",
     "varRefreshCmd": "print(var_dic_list())"
    },
    "r": {
     "delete_cmd_postfix": ") ",
     "delete_cmd_prefix": "rm(",
     "library": "var_list.r",
     "varRefreshCmd": "cat(var_dic_list()) "
    }
   },
   "types_to_exclude": [
    "module",
    "function",
    "builtin_function_or_method",
    "instance",
    "_Feature"
   ],
   "window_display": false
  }
 },
 "nbformat": 4,
 "nbformat_minor": 5
}
